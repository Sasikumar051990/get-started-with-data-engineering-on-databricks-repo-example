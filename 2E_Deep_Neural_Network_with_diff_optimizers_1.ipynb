{
  "cells": [
    {
      "cell_type": "markdown",
      "metadata": {
        "id": "view-in-github",
        "colab_type": "text"
      },
      "source": [
        "<a href=\"https://colab.research.google.com/github/Sasikumar051990/get-started-with-data-engineering-on-databricks-repo-example/blob/published/2E_Deep_Neural_Network_with_diff_optimizers_1.ipynb\" target=\"_parent\"><img src=\"https://colab.research.google.com/assets/colab-badge.svg\" alt=\"Open In Colab\"/></a>"
      ]
    },
    {
      "cell_type": "markdown",
      "metadata": {
        "id": "RClLd53Tr37i"
      },
      "source": [
        "# Deep Neural Network using Keras"
      ]
    },
    {
      "cell_type": "code",
      "execution_count": null,
      "metadata": {
        "id": "wA8rnyAar37k"
      },
      "outputs": [],
      "source": [
        "import tensorflow as tf\n",
        "\n",
        "from tensorflow.keras import models\n",
        "from tensorflow.keras import layers\n",
        "\n",
        "import random\n",
        "import numpy as np"
      ]
    },
    {
      "cell_type": "code",
      "execution_count": null,
      "metadata": {
        "id": "ukYfRrj7r37n"
      },
      "outputs": [],
      "source": [
        "random.seed(42)         # Initialize the random number generator.\n",
        "np.random.seed(42)      # With the seed reset, the same set of\n",
        "                        # numbers will appear every time.\n",
        "tf.random.set_seed(42)  # sets the graph-level random seed"
      ]
    },
    {
      "cell_type": "markdown",
      "metadata": {
        "id": "m8ZXZJCxr37n"
      },
      "source": [
        "## Dataset"
      ]
    },
    {
      "cell_type": "code",
      "execution_count": null,
      "metadata": {
        "id": "m9VRdRjSr37o",
        "colab": {
          "base_uri": "https://localhost:8080/"
        },
        "outputId": "853941ce-9ee0-4ed4-bef8-1011a8df15c5"
      },
      "outputs": [
        {
          "output_type": "stream",
          "name": "stdout",
          "text": [
            "Downloading data from https://www.cs.toronto.edu/~kriz/cifar-10-python.tar.gz\n",
            "170498071/170498071 [==============================] - 2s 0us/step\n"
          ]
        }
      ],
      "source": [
        "# Use the MNIST dataset  of Keras.\n",
        "\n",
        "cifar10 = tf.keras.datasets.cifar10\n",
        "\n",
        "(Xtrain, Ytrain) , (Xtest, Ytest) = cifar10.load_data()"
      ]
    },
    {
      "cell_type": "code",
      "execution_count": null,
      "metadata": {
        "colab": {
          "base_uri": "https://localhost:8080/",
          "height": 276
        },
        "id": "8_QTSiVlr37o",
        "outputId": "12300433-7a25-48e0-d49f-8cad779e2391"
      },
      "outputs": [
        {
          "output_type": "execute_result",
          "data": {
            "text/plain": [
              "Text(0.5, 1.0, 'Ground Truth (Test): [3]')"
            ]
          },
          "metadata": {},
          "execution_count": 5
        },
        {
          "output_type": "display_data",
          "data": {
            "text/plain": [
              "<Figure size 500x500 with 2 Axes>"
            ],
            "image/png": "[encoded data removed]"
          },
          "metadata": {}
        }
      ],
      "source": [
        "import matplotlib.pyplot as plt\n",
        "\n",
        "plt.figure(figsize=[5,5])\n",
        "\n",
        "# Display the first image in training data\n",
        "plt.subplot(121)\n",
        "plt.imshow(Xtrain[0,:,:], cmap='gray')\n",
        "plt.title(\"Ground Truth (Train) : {}\".format(Ytrain[0]))\n",
        "\n",
        "# Display the first image in testing data\n",
        "plt.subplot(122)\n",
        "plt.imshow(Xtest[0,:,:], cmap='gray')\n",
        "plt.title(\"Ground Truth (Test): {}\".format(Ytest[0]))"
      ]
    },
    {
      "cell_type": "code",
      "execution_count": null,
      "metadata": {
        "colab": {
          "base_uri": "https://localhost:8080/"
        },
        "id": "gDE1qTlJr37p",
        "outputId": "b49ebced-9c8c-46a0-9776-8371155c4d5d"
      },
      "outputs": [
        {
          "output_type": "stream",
          "name": "stdout",
          "text": [
            "(50000, 32, 32, 3)\n",
            "(10000, 32, 32, 3)\n",
            "(50000, 1)\n",
            "(10000, 1)\n"
          ]
        }
      ],
      "source": [
        "# size of the datsets\n",
        "\n",
        "print(Xtrain.shape)\n",
        "print(Xtest.shape)\n",
        "print(Ytrain.shape)\n",
        "print(Ytest.shape)"
      ]
    },
    {
      "cell_type": "code",
      "execution_count": null,
      "metadata": {
        "colab": {
          "base_uri": "https://localhost:8080/"
        },
        "id": "bwfOFWiGr37q",
        "outputId": "818ebd1d-30cd-4faa-836a-364611114702"
      },
      "outputs": [
        {
          "output_type": "stream",
          "name": "stdout",
          "text": [
            "(50000, 10)\n"
          ]
        }
      ],
      "source": [
        "# Normalize the data\n",
        "# 50000 input images are in the train set.\n",
        "# 10000 input images are in the test set.\n",
        "\n",
        "Xtrain = Xtrain.reshape((50000, 32*32*3))    # reshape the input set to size 32*32*3.\n",
        "Xtrain = Xtrain.astype('float32')/255      # normalize to grayscale; set datatype as float32\n",
        "\n",
        "Xtest = Xtest.reshape((10000, 32*32*3))      # reshape the input set to size 32*32*3.\n",
        "Xtest = Xtest.astype('float32')/255        # normalize to grayscale; set datatype as float32\n",
        "\n",
        "Ytrain = tf.keras.utils.to_categorical(Ytrain)\n",
        "Ytest = tf.keras.utils.to_categorical(Ytest)\n",
        "print(Ytrain.shape)"
      ]
    },
    {
      "cell_type": "markdown",
      "source": [],
      "metadata": {
        "id": "1qfuPEcMHPkL"
      }
    },
    {
      "cell_type": "markdown",
      "metadata": {
        "id": "i2pQipiYr37r"
      },
      "source": [
        "## DNN Model"
      ]
    },
    {
      "cell_type": "markdown",
      "source": [],
      "metadata": {
        "id": "US4a13-2HHaD"
      }
    },
    {
      "cell_type": "markdown",
      "metadata": {
        "id": "69_NVvVWr37r"
      },
      "source": [
        "Using Keras, create the DNN or Sequential Model"
      ]
    },
    {
      "cell_type": "code",
      "execution_count": null,
      "metadata": {
        "id": "ich9KjPyr37r"
      },
      "outputs": [],
      "source": [
        "# Create a model object\n",
        "\n",
        "dnnModel = models.Sequential()"
      ]
    },
    {
      "cell_type": "markdown",
      "metadata": {
        "id": "lfhg_Nccr37s"
      },
      "source": [
        "Add dense layers, specifying the number of units in each layer and the activation function used in the layer."
      ]
    },
    {
      "cell_type": "code",
      "execution_count": null,
      "metadata": {
        "colab": {
          "base_uri": "https://localhost:8080/",
          "height": 106
        },
        "id": "GZBxcTWnr37s",
        "outputId": "1ef6cae4-badc-42e8-fdea-d54bef0d7931"
      },
      "outputs": [
        {
          "output_type": "error",
          "ename": "SyntaxError",
          "evalue": "invalid syntax. Perhaps you forgot a comma? (<ipython-input-9-3ba5b2d70851>, line 4)",
          "traceback": [
            "\u001b[0;36m  File \u001b[0;32m\"<ipython-input-9-3ba5b2d70851>\"\u001b[0;36m, line \u001b[0;32m4\u001b[0m\n\u001b[0;31m    dnnModel.add(layers.Dense(32,(3,3) activation='relu', input_shape= (28,28,1,)))\u001b[0m\n\u001b[0m                                 ^\u001b[0m\n\u001b[0;31mSyntaxError\u001b[0m\u001b[0;31m:\u001b[0m invalid syntax. Perhaps you forgot a comma?\n"
          ]
        }
      ],
      "source": [
        "# Layer 1 = input layer\n",
        "# specify the input size in the first layer.\n",
        "\n",
        "dnnModel.add(layers.Dense(32,(3,3) activation='relu', input_shape= (28,28,1,)))\n",
        "\n",
        "# Layer 2 = hidden layer\n",
        "#dnnModel.add(layers.Dense(200, activation='relu'))\n",
        "\n",
        "# Layer 3 = hidden layer\n",
        "#dnnModel.add(layers.Dense(150, activation='relu'))\n",
        "\n",
        "# Layer 4 = hidden layer\n",
        "#dnnModel.add(layers.Dense(70, activation='relu'))\n",
        "\n",
        "\n",
        "# Layer 5 = output layer\n",
        "dnnModel.add(layers.Dense(10, activation='softmax'))\n",
        "\n",
        "dnnModel.summary()"
      ]
    },
    {
      "cell_type": "code",
      "execution_count": null,
      "metadata": {
        "colab": {
          "base_uri": "https://localhost:8080/"
        },
        "id": "73XHWBefr37s",
        "outputId": "d6d352e0-8222-4c2b-a165-268bdd9bdd9d"
      },
      "outputs": [
        {
          "output_type": "stream",
          "name": "stdout",
          "text": [
            "Model: \"sequential_9\"\n",
            "_________________________________________________________________\n",
            " Layer (type)                Output Shape              Param #   \n",
            "=================================================================\n",
            " dense_45 (Dense)            (None, 250)               768250    \n",
            "                                                                 \n",
            " dense_46 (Dense)            (None, 200)               50200     \n",
            "                                                                 \n",
            " dense_47 (Dense)            (None, 150)               30150     \n",
            "                                                                 \n",
            " dense_48 (Dense)            (None, 70)                10570     \n",
            "                                                                 \n",
            " dense_49 (Dense)            (None, 10)                710       \n",
            "                                                                 \n",
            "=================================================================\n",
            "Total params: 859880 (3.28 MB)\n",
            "Trainable params: 859880 (3.28 MB)\n",
            "Non-trainable params: 0 (0.00 Byte)\n",
            "_________________________________________________________________\n"
          ]
        }
      ],
      "source": [
        "dnnModel_adam = models.Sequential()\n",
        "dnnModel_adam.add(layers.Dense(250, activation='relu', input_shape= (32*32*3,)))\n",
        "dnnModel_adam.add(layers.Dense(200, activation='relu'))\n",
        "dnnModel_adam.add(layers.Dense(150, activation='relu'))\n",
        "dnnModel_adam.add(layers.Dense(70, activation='relu'))\n",
        "dnnModel_adam.add(layers.Dense(10, activation='softmax'))\n",
        "dnnModel_adam.summary()"
      ]
    },
    {
      "cell_type": "markdown",
      "metadata": {
        "id": "fPkfKHenr37t"
      },
      "source": [
        "## Regularization and Optimizations of DNN"
      ]
    },
    {
      "cell_type": "code",
      "execution_count": null,
      "metadata": {
        "colab": {
          "base_uri": "https://localhost:8080/"
        },
        "id": "xTI5X7S3r37t",
        "outputId": "b75edf4d-e42d-4afa-eefa-603d1bf84eaf"
      },
      "outputs": [
        {
          "output_type": "stream",
          "name": "stdout",
          "text": [
            "Model: \"sequential_10\"\n",
            "_________________________________________________________________\n",
            " Layer (type)                Output Shape              Param #   \n",
            "=================================================================\n",
            " dense_50 (Dense)            (None, 250)               768250    \n",
            "                                                                 \n",
            " dense_51 (Dense)            (None, 200)               50200     \n",
            "                                                                 \n",
            " dense_52 (Dense)            (None, 150)               30150     \n",
            "                                                                 \n",
            " dense_53 (Dense)            (None, 70)                10570     \n",
            "                                                                 \n",
            " dense_54 (Dense)            (None, 10)                710       \n",
            "                                                                 \n",
            "=================================================================\n",
            "Total params: 859880 (3.28 MB)\n",
            "Trainable params: 859880 (3.28 MB)\n",
            "Non-trainable params: 0 (0.00 Byte)\n",
            "_________________________________________________________________\n"
          ]
        }
      ],
      "source": [
        "dnnModel_rmsprop = models.Sequential()\n",
        "dnnModel_rmsprop.add(layers.Dense(250, activation='relu', input_shape= (32*32*3,)))\n",
        "dnnModel_rmsprop.add(layers.Dense(200, activation='relu'))\n",
        "dnnModel_rmsprop.add(layers.Dense(150, activation='relu'))\n",
        "dnnModel_rmsprop.add(layers.Dense(70, activation='relu'))\n",
        "dnnModel_rmsprop.add(layers.Dense(10, activation='softmax'))\n",
        "dnnModel_rmsprop.summary()"
      ]
    },
    {
      "cell_type": "code",
      "source": [
        "dnnModel_momentum = models.Sequential()\n",
        "dnnModel_momentum.add(layers.Dense(250, activation='relu', input_shape= (32*32*3,)))\n",
        "dnnModel_momentum.add(layers.Dense(200, activation='relu'))\n",
        "dnnModel_momentum.add(layers.Dense(150, activation='relu'))\n",
        "dnnModel_momentum.add(layers.Dense(70, activation='relu'))\n",
        "dnnModel_momentum.add(layers.Dense(10, activation='softmax'))\n",
        "dnnModel_momentum.summary()"
      ],
      "metadata": {
        "colab": {
          "base_uri": "https://localhost:8080/"
        },
        "id": "s9sl2dDnAo7X",
        "outputId": "38f7647d-e761-4576-f4fb-8a9f20d62025"
      },
      "execution_count": null,
      "outputs": [
        {
          "output_type": "stream",
          "name": "stdout",
          "text": [
            "Model: \"sequential_11\"\n",
            "_________________________________________________________________\n",
            " Layer (type)                Output Shape              Param #   \n",
            "=================================================================\n",
            " dense_55 (Dense)            (None, 250)               768250    \n",
            "                                                                 \n",
            " dense_56 (Dense)            (None, 200)               50200     \n",
            "                                                                 \n",
            " dense_57 (Dense)            (None, 150)               30150     \n",
            "                                                                 \n",
            " dense_58 (Dense)            (None, 70)                10570     \n",
            "                                                                 \n",
            " dense_59 (Dense)            (None, 10)                710       \n",
            "                                                                 \n",
            "=================================================================\n",
            "Total params: 859880 (3.28 MB)\n",
            "Trainable params: 859880 (3.28 MB)\n",
            "Non-trainable params: 0 (0.00 Byte)\n",
            "_________________________________________________________________\n"
          ]
        }
      ]
    },
    {
      "cell_type": "code",
      "execution_count": null,
      "metadata": {
        "colab": {
          "base_uri": "https://localhost:8080/"
        },
        "id": "zxIxE85or37t",
        "outputId": "5b66aa9f-925f-4ed7-df04-c4e925484355"
      },
      "outputs": [
        {
          "output_type": "stream",
          "name": "stdout",
          "text": [
            "Model: \"sequential_8\"\n",
            "_________________________________________________________________\n",
            " Layer (type)                Output Shape              Param #   \n",
            "=================================================================\n",
            " dense_40 (Dense)            (None, 250)               768250    \n",
            "                                                                 \n",
            " dense_41 (Dense)            (None, 200)               50200     \n",
            "                                                                 \n",
            " dense_42 (Dense)            (None, 150)               30150     \n",
            "                                                                 \n",
            " dense_43 (Dense)            (None, 70)                10570     \n",
            "                                                                 \n",
            " dense_44 (Dense)            (None, 10)                710       \n",
            "                                                                 \n",
            "=================================================================\n",
            "Total params: 859880 (3.28 MB)\n",
            "Trainable params: 859880 (3.28 MB)\n",
            "Non-trainable params: 0 (0.00 Byte)\n",
            "_________________________________________________________________\n"
          ]
        }
      ],
      "source": [
        "# Configure  the model for training, by using appropriate optimizers and regularizations\n",
        "# Available optimizer: adam, rmsprop, adagrad, sgd\n",
        "# loss:  objective that the model will try to minimize.\n",
        "# Available loss: categorical_crossentropy, binary_crossentropy, mean_squared_error\n",
        "# metrics: List of metrics to be evaluated by the model during training and testing.\n",
        "\n",
        "dnnModel.compile( optimizer = 'sgd', loss = 'categorical_crossentropy', metrics=['accuracy'] )\n",
        "dnnModel_adam.compile( optimizer = 'adam', loss = 'categorical_crossentropy', metrics=['accuracy'] )\n",
        "dnnModel_rmsprop.compile( optimizer = 'rmsprop', loss = 'categorical_crossentropy', metrics=['accuracy'] )\n",
        "dnnModel_momentum.compile( optimizer = tf.keras.optimizers.SGD(momentum=0.8), loss = 'categorical_crossentropy', metrics=['accuracy'] )\n",
        "dnnModel.summary()\n"
      ]
    },
    {
      "cell_type": "markdown",
      "metadata": {
        "id": "VKkV3vMqr37u"
      },
      "source": [
        "## Train the Model"
      ]
    },
    {
      "cell_type": "code",
      "source": [
        "print(dnnModel.input_shape)\n",
        "print(dnnModel.output_shape)\n",
        "print(Ytrain.shape)"
      ],
      "metadata": {
        "colab": {
          "base_uri": "https://localhost:8080/"
        },
        "id": "RDOdVjjpByXr",
        "outputId": "cacea60c-e180-4ea1-efc0-e99b4670fc38"
      },
      "execution_count": null,
      "outputs": [
        {
          "output_type": "stream",
          "name": "stdout",
          "text": [
            "(None, 3072)\n",
            "(None, 10)\n",
            "(50000, 10)\n"
          ]
        }
      ]
    },
    {
      "cell_type": "markdown",
      "source": [],
      "metadata": {
        "id": "7b26Y7cnPne2"
      }
    },
    {
      "cell_type": "code",
      "execution_count": null,
      "metadata": {
        "colab": {
          "base_uri": "https://localhost:8080/"
        },
        "id": "wRW68A4or37u",
        "outputId": "208ee6e6-0764-4d9f-fedb-28dd19dbb367"
      },
      "outputs": [
        {
          "output_type": "stream",
          "name": "stdout",
          "text": [
            "Epoch 1/35\n",
            "704/704 [==============================] - 4s 5ms/step - loss: 2.0141 - accuracy: 0.2733 - val_loss: 2.3038 - val_accuracy: 0.2258\n",
            "Epoch 2/35\n",
            "704/704 [==============================] - 3s 4ms/step - loss: 1.8102 - accuracy: 0.3541 - val_loss: 1.9781 - val_accuracy: 0.2724\n",
            "Epoch 3/35\n",
            "704/704 [==============================] - 3s 4ms/step - loss: 1.7187 - accuracy: 0.3875 - val_loss: 1.8681 - val_accuracy: 0.3268\n",
            "Epoch 4/35\n",
            "704/704 [==============================] - 3s 4ms/step - loss: 1.6595 - accuracy: 0.4109 - val_loss: 2.1430 - val_accuracy: 0.2578\n",
            "Epoch 5/35\n",
            "704/704 [==============================] - 3s 4ms/step - loss: 1.6101 - accuracy: 0.4273 - val_loss: 2.0662 - val_accuracy: 0.3020\n",
            "Epoch 6/35\n",
            "704/704 [==============================] - 4s 5ms/step - loss: 1.5717 - accuracy: 0.4410 - val_loss: 1.6067 - val_accuracy: 0.4304\n",
            "Epoch 7/35\n",
            "704/704 [==============================] - 3s 4ms/step - loss: 1.5388 - accuracy: 0.4519 - val_loss: 1.7806 - val_accuracy: 0.3624\n",
            "Epoch 8/35\n",
            "704/704 [==============================] - 3s 4ms/step - loss: 1.5067 - accuracy: 0.4639 - val_loss: 1.6268 - val_accuracy: 0.4158\n",
            "Epoch 9/35\n",
            "704/704 [==============================] - 3s 4ms/step - loss: 1.4796 - accuracy: 0.4730 - val_loss: 1.7172 - val_accuracy: 0.3850\n",
            "Epoch 10/35\n",
            "704/704 [==============================] - 3s 5ms/step - loss: 1.4524 - accuracy: 0.4837 - val_loss: 1.5672 - val_accuracy: 0.4402\n",
            "Epoch 11/35\n",
            "704/704 [==============================] - 3s 4ms/step - loss: 1.4315 - accuracy: 0.4917 - val_loss: 1.7462 - val_accuracy: 0.3856\n",
            "Epoch 12/35\n",
            "704/704 [==============================] - 3s 4ms/step - loss: 1.4073 - accuracy: 0.5012 - val_loss: 1.7844 - val_accuracy: 0.3598\n",
            "Epoch 13/35\n",
            "704/704 [==============================] - 3s 4ms/step - loss: 1.3865 - accuracy: 0.5068 - val_loss: 1.8334 - val_accuracy: 0.3888\n",
            "Epoch 14/35\n",
            "704/704 [==============================] - 3s 4ms/step - loss: 1.3665 - accuracy: 0.5163 - val_loss: 1.6494 - val_accuracy: 0.4260\n",
            "Epoch 15/35\n",
            "704/704 [==============================] - 3s 4ms/step - loss: 1.3510 - accuracy: 0.5196 - val_loss: 2.0744 - val_accuracy: 0.3468\n",
            "Epoch 16/35\n",
            "704/704 [==============================] - 3s 4ms/step - loss: 1.3315 - accuracy: 0.5257 - val_loss: 1.5107 - val_accuracy: 0.4690\n",
            "Epoch 17/35\n",
            "704/704 [==============================] - 3s 4ms/step - loss: 1.3160 - accuracy: 0.5325 - val_loss: 1.6110 - val_accuracy: 0.4432\n",
            "Epoch 18/35\n",
            "704/704 [==============================] - 3s 4ms/step - loss: 1.2973 - accuracy: 0.5364 - val_loss: 2.2788 - val_accuracy: 0.3110\n",
            "Epoch 19/35\n",
            "704/704 [==============================] - 3s 4ms/step - loss: 1.2831 - accuracy: 0.5450 - val_loss: 1.4803 - val_accuracy: 0.4648\n",
            "Epoch 20/35\n",
            "704/704 [==============================] - 3s 4ms/step - loss: 1.2675 - accuracy: 0.5482 - val_loss: 1.5676 - val_accuracy: 0.4524\n",
            "Epoch 21/35\n",
            "704/704 [==============================] - 3s 4ms/step - loss: 1.2526 - accuracy: 0.5544 - val_loss: 1.5199 - val_accuracy: 0.4690\n",
            "Epoch 22/35\n",
            "704/704 [==============================] - 3s 4ms/step - loss: 1.2375 - accuracy: 0.5605 - val_loss: 1.7402 - val_accuracy: 0.4230\n",
            "Epoch 23/35\n",
            "704/704 [==============================] - 3s 5ms/step - loss: 1.2229 - accuracy: 0.5658 - val_loss: 1.7165 - val_accuracy: 0.4288\n",
            "Epoch 24/35\n",
            "704/704 [==============================] - 3s 4ms/step - loss: 1.2122 - accuracy: 0.5689 - val_loss: 1.6314 - val_accuracy: 0.4456\n",
            "Epoch 25/35\n",
            "704/704 [==============================] - 3s 4ms/step - loss: 1.1957 - accuracy: 0.5758 - val_loss: 2.4385 - val_accuracy: 0.3122\n",
            "Epoch 26/35\n",
            "704/704 [==============================] - 3s 4ms/step - loss: 1.1901 - accuracy: 0.5790 - val_loss: 1.5096 - val_accuracy: 0.4688\n",
            "Epoch 27/35\n",
            "704/704 [==============================] - 3s 5ms/step - loss: 1.1694 - accuracy: 0.5836 - val_loss: 1.7247 - val_accuracy: 0.4378\n",
            "Epoch 28/35\n",
            "704/704 [==============================] - 3s 4ms/step - loss: 1.1607 - accuracy: 0.5868 - val_loss: 2.3233 - val_accuracy: 0.3254\n",
            "Epoch 29/35\n",
            "704/704 [==============================] - 3s 4ms/step - loss: 1.1467 - accuracy: 0.5916 - val_loss: 1.7344 - val_accuracy: 0.4038\n",
            "Epoch 30/35\n",
            "704/704 [==============================] - 3s 4ms/step - loss: 1.1303 - accuracy: 0.5988 - val_loss: 1.6520 - val_accuracy: 0.4384\n",
            "Epoch 31/35\n",
            "704/704 [==============================] - 3s 4ms/step - loss: 1.1172 - accuracy: 0.6033 - val_loss: 1.8164 - val_accuracy: 0.4086\n",
            "Epoch 32/35\n",
            "704/704 [==============================] - 3s 4ms/step - loss: 1.1053 - accuracy: 0.6064 - val_loss: 1.6060 - val_accuracy: 0.4402\n",
            "Epoch 33/35\n",
            "704/704 [==============================] - 3s 4ms/step - loss: 1.0959 - accuracy: 0.6084 - val_loss: 1.5065 - val_accuracy: 0.4754\n",
            "Epoch 34/35\n",
            "704/704 [==============================] - 3s 4ms/step - loss: 1.0806 - accuracy: 0.6163 - val_loss: 1.7533 - val_accuracy: 0.4214\n",
            "Epoch 35/35\n",
            "704/704 [==============================] - 3s 4ms/step - loss: 1.0654 - accuracy: 0.6235 - val_loss: 1.8423 - val_accuracy: 0.3832\n",
            "Epoch 1/35\n",
            "704/704 [==============================] - 5s 4ms/step - loss: 1.9009 - accuracy: 0.3040 - val_loss: 1.8178 - val_accuracy: 0.3456\n",
            "Epoch 2/35\n",
            "704/704 [==============================] - 3s 4ms/step - loss: 1.7113 - accuracy: 0.3842 - val_loss: 1.6607 - val_accuracy: 0.4066\n",
            "Epoch 3/35\n",
            "704/704 [==============================] - 3s 4ms/step - loss: 1.6270 - accuracy: 0.4154 - val_loss: 1.6309 - val_accuracy: 0.4182\n",
            "Epoch 4/35\n",
            "704/704 [==============================] - 4s 5ms/step - loss: 1.5688 - accuracy: 0.4336 - val_loss: 1.6024 - val_accuracy: 0.4318\n",
            "Epoch 5/35\n",
            "704/704 [==============================] - 3s 4ms/step - loss: 1.5203 - accuracy: 0.4541 - val_loss: 1.5182 - val_accuracy: 0.4518\n",
            "Epoch 6/35\n",
            "704/704 [==============================] - 3s 4ms/step - loss: 1.4831 - accuracy: 0.4665 - val_loss: 1.5226 - val_accuracy: 0.4474\n",
            "Epoch 7/35\n",
            "704/704 [==============================] - 3s 4ms/step - loss: 1.4496 - accuracy: 0.4780 - val_loss: 1.5320 - val_accuracy: 0.4578\n",
            "Epoch 8/35\n",
            "704/704 [==============================] - 3s 5ms/step - loss: 1.4275 - accuracy: 0.4889 - val_loss: 1.4443 - val_accuracy: 0.4808\n",
            "Epoch 9/35\n",
            "704/704 [==============================] - 3s 4ms/step - loss: 1.3983 - accuracy: 0.4983 - val_loss: 1.4303 - val_accuracy: 0.4926\n",
            "Epoch 10/35\n",
            "704/704 [==============================] - 3s 4ms/step - loss: 1.3780 - accuracy: 0.5055 - val_loss: 1.4484 - val_accuracy: 0.4814\n",
            "Epoch 11/35\n",
            "704/704 [==============================] - 3s 4ms/step - loss: 1.3589 - accuracy: 0.5100 - val_loss: 1.4711 - val_accuracy: 0.4670\n",
            "Epoch 12/35\n",
            "704/704 [==============================] - 3s 5ms/step - loss: 1.3290 - accuracy: 0.5248 - val_loss: 1.4687 - val_accuracy: 0.4854\n",
            "Epoch 13/35\n",
            "704/704 [==============================] - 3s 4ms/step - loss: 1.3173 - accuracy: 0.5270 - val_loss: 1.4713 - val_accuracy: 0.4732\n",
            "Epoch 14/35\n",
            "704/704 [==============================] - 3s 4ms/step - loss: 1.2829 - accuracy: 0.5406 - val_loss: 1.4368 - val_accuracy: 0.4908\n",
            "Epoch 15/35\n",
            "704/704 [==============================] - 3s 4ms/step - loss: 1.2661 - accuracy: 0.5466 - val_loss: 1.4400 - val_accuracy: 0.4874\n",
            "Epoch 16/35\n",
            "704/704 [==============================] - 3s 4ms/step - loss: 1.2442 - accuracy: 0.5511 - val_loss: 1.4624 - val_accuracy: 0.4862\n",
            "Epoch 17/35\n",
            "704/704 [==============================] - 3s 5ms/step - loss: 1.2270 - accuracy: 0.5590 - val_loss: 1.4468 - val_accuracy: 0.4922\n",
            "Epoch 18/35\n",
            "704/704 [==============================] - 3s 4ms/step - loss: 1.2159 - accuracy: 0.5630 - val_loss: 1.4319 - val_accuracy: 0.4994\n",
            "Epoch 19/35\n",
            "704/704 [==============================] - 3s 4ms/step - loss: 1.1939 - accuracy: 0.5711 - val_loss: 1.4271 - val_accuracy: 0.5086\n",
            "Epoch 20/35\n",
            "704/704 [==============================] - 3s 4ms/step - loss: 1.1782 - accuracy: 0.5775 - val_loss: 1.4082 - val_accuracy: 0.5100\n",
            "Epoch 21/35\n",
            "704/704 [==============================] - 3s 5ms/step - loss: 1.1636 - accuracy: 0.5813 - val_loss: 1.4469 - val_accuracy: 0.5032\n",
            "Epoch 22/35\n",
            "704/704 [==============================] - 3s 4ms/step - loss: 1.1434 - accuracy: 0.5888 - val_loss: 1.4328 - val_accuracy: 0.5050\n",
            "Epoch 23/35\n",
            "704/704 [==============================] - 3s 4ms/step - loss: 1.1226 - accuracy: 0.5974 - val_loss: 1.4704 - val_accuracy: 0.5070\n",
            "Epoch 24/35\n",
            "704/704 [==============================] - 3s 4ms/step - loss: 1.1109 - accuracy: 0.5996 - val_loss: 1.5056 - val_accuracy: 0.4864\n",
            "Epoch 25/35\n",
            "704/704 [==============================] - 3s 5ms/step - loss: 1.0945 - accuracy: 0.6067 - val_loss: 1.4590 - val_accuracy: 0.4968\n",
            "Epoch 26/35\n",
            "704/704 [==============================] - 3s 4ms/step - loss: 1.0788 - accuracy: 0.6106 - val_loss: 1.4906 - val_accuracy: 0.5004\n",
            "Epoch 27/35\n",
            "704/704 [==============================] - 3s 4ms/step - loss: 1.0635 - accuracy: 0.6167 - val_loss: 1.4789 - val_accuracy: 0.5052\n",
            "Epoch 28/35\n",
            "704/704 [==============================] - 3s 4ms/step - loss: 1.0480 - accuracy: 0.6211 - val_loss: 1.4944 - val_accuracy: 0.4974\n",
            "Epoch 29/35\n",
            "704/704 [==============================] - 3s 5ms/step - loss: 1.0318 - accuracy: 0.6279 - val_loss: 1.5203 - val_accuracy: 0.4934\n",
            "Epoch 30/35\n",
            "704/704 [==============================] - 3s 4ms/step - loss: 1.0256 - accuracy: 0.6306 - val_loss: 1.5464 - val_accuracy: 0.4888\n",
            "Epoch 31/35\n",
            "704/704 [==============================] - 3s 4ms/step - loss: 1.0084 - accuracy: 0.6344 - val_loss: 1.5436 - val_accuracy: 0.4950\n",
            "Epoch 32/35\n",
            "704/704 [==============================] - 3s 4ms/step - loss: 0.9985 - accuracy: 0.6394 - val_loss: 1.5460 - val_accuracy: 0.4916\n",
            "Epoch 33/35\n",
            "704/704 [==============================] - 3s 5ms/step - loss: 0.9810 - accuracy: 0.6440 - val_loss: 1.5383 - val_accuracy: 0.5044\n",
            "Epoch 34/35\n",
            "704/704 [==============================] - 3s 4ms/step - loss: 0.9735 - accuracy: 0.6500 - val_loss: 1.5154 - val_accuracy: 0.5168\n",
            "Epoch 35/35\n",
            "704/704 [==============================] - 3s 4ms/step - loss: 0.9510 - accuracy: 0.6557 - val_loss: 1.6303 - val_accuracy: 0.4962\n",
            "Epoch 1/35\n",
            "704/704 [==============================] - 4s 4ms/step - loss: 1.9793 - accuracy: 0.2778 - val_loss: 2.1776 - val_accuracy: 0.2596\n",
            "Epoch 2/35\n",
            "704/704 [==============================] - 3s 4ms/step - loss: 1.7616 - accuracy: 0.3660 - val_loss: 1.8308 - val_accuracy: 0.3350\n",
            "Epoch 3/35\n",
            "704/704 [==============================] - 3s 4ms/step - loss: 1.6757 - accuracy: 0.3973 - val_loss: 2.5364 - val_accuracy: 0.2342\n",
            "Epoch 4/35\n",
            "704/704 [==============================] - 3s 5ms/step - loss: 1.6132 - accuracy: 0.4196 - val_loss: 1.8422 - val_accuracy: 0.3520\n",
            "Epoch 5/35\n",
            "704/704 [==============================] - 3s 4ms/step - loss: 1.5675 - accuracy: 0.4370 - val_loss: 1.7874 - val_accuracy: 0.3616\n",
            "Epoch 6/35\n",
            "704/704 [==============================] - 3s 4ms/step - loss: 1.5341 - accuracy: 0.4502 - val_loss: 1.6271 - val_accuracy: 0.4232\n",
            "Epoch 7/35\n",
            "704/704 [==============================] - 3s 4ms/step - loss: 1.5069 - accuracy: 0.4594 - val_loss: 1.9029 - val_accuracy: 0.3836\n",
            "Epoch 8/35\n",
            "704/704 [==============================] - 3s 5ms/step - loss: 1.4841 - accuracy: 0.4693 - val_loss: 1.6653 - val_accuracy: 0.4018\n",
            "Epoch 9/35\n",
            "704/704 [==============================] - 3s 4ms/step - loss: 1.4649 - accuracy: 0.4798 - val_loss: 1.7017 - val_accuracy: 0.4140\n",
            "Epoch 10/35\n",
            "704/704 [==============================] - 3s 4ms/step - loss: 1.4431 - accuracy: 0.4851 - val_loss: 1.6886 - val_accuracy: 0.4110\n",
            "Epoch 11/35\n",
            "704/704 [==============================] - 3s 4ms/step - loss: 1.4306 - accuracy: 0.4885 - val_loss: 1.6320 - val_accuracy: 0.4106\n",
            "Epoch 12/35\n",
            "704/704 [==============================] - 3s 4ms/step - loss: 1.4164 - accuracy: 0.4978 - val_loss: 1.6953 - val_accuracy: 0.4056\n",
            "Epoch 13/35\n",
            "704/704 [==============================] - 3s 4ms/step - loss: 1.4070 - accuracy: 0.4982 - val_loss: 1.5839 - val_accuracy: 0.4220\n",
            "Epoch 14/35\n",
            "704/704 [==============================] - 3s 4ms/step - loss: 1.3960 - accuracy: 0.5048 - val_loss: 1.7232 - val_accuracy: 0.4142\n",
            "Epoch 15/35\n",
            "704/704 [==============================] - 3s 4ms/step - loss: 1.3880 - accuracy: 0.5078 - val_loss: 1.7202 - val_accuracy: 0.4212\n",
            "Epoch 16/35\n",
            "704/704 [==============================] - 3s 4ms/step - loss: 1.3794 - accuracy: 0.5113 - val_loss: 1.6399 - val_accuracy: 0.4484\n",
            "Epoch 17/35\n",
            "704/704 [==============================] - 3s 5ms/step - loss: 1.3690 - accuracy: 0.5126 - val_loss: 1.8716 - val_accuracy: 0.4256\n",
            "Epoch 18/35\n",
            "704/704 [==============================] - 3s 4ms/step - loss: 1.3568 - accuracy: 0.5177 - val_loss: 1.6917 - val_accuracy: 0.4134\n",
            "Epoch 19/35\n",
            "704/704 [==============================] - 3s 4ms/step - loss: 1.3492 - accuracy: 0.5238 - val_loss: 1.7657 - val_accuracy: 0.4254\n",
            "Epoch 20/35\n",
            "704/704 [==============================] - 3s 4ms/step - loss: 1.3424 - accuracy: 0.5251 - val_loss: 1.8864 - val_accuracy: 0.3898\n",
            "Epoch 21/35\n",
            "704/704 [==============================] - 3s 5ms/step - loss: 1.3372 - accuracy: 0.5258 - val_loss: 1.7952 - val_accuracy: 0.4136\n",
            "Epoch 22/35\n",
            "704/704 [==============================] - 3s 4ms/step - loss: 1.3266 - accuracy: 0.5327 - val_loss: 1.7950 - val_accuracy: 0.4094\n",
            "Epoch 23/35\n",
            "704/704 [==============================] - 3s 4ms/step - loss: 1.3220 - accuracy: 0.5340 - val_loss: 1.6046 - val_accuracy: 0.4572\n",
            "Epoch 24/35\n",
            "704/704 [==============================] - 3s 4ms/step - loss: 1.3141 - accuracy: 0.5340 - val_loss: 1.8082 - val_accuracy: 0.4326\n",
            "Epoch 25/35\n",
            "704/704 [==============================] - 4s 5ms/step - loss: 1.3089 - accuracy: 0.5406 - val_loss: 2.7847 - val_accuracy: 0.3164\n",
            "Epoch 26/35\n",
            "704/704 [==============================] - 3s 4ms/step - loss: 1.3066 - accuracy: 0.5407 - val_loss: 1.8235 - val_accuracy: 0.4286\n",
            "Epoch 27/35\n",
            "704/704 [==============================] - 3s 4ms/step - loss: 1.2958 - accuracy: 0.5438 - val_loss: 1.7081 - val_accuracy: 0.4556\n",
            "Epoch 28/35\n",
            "704/704 [==============================] - 3s 4ms/step - loss: 1.2919 - accuracy: 0.5449 - val_loss: 1.9072 - val_accuracy: 0.4038\n",
            "Epoch 29/35\n",
            "704/704 [==============================] - 3s 5ms/step - loss: 1.2863 - accuracy: 0.5505 - val_loss: 1.6076 - val_accuracy: 0.4658\n",
            "Epoch 30/35\n",
            "704/704 [==============================] - 3s 5ms/step - loss: 1.2817 - accuracy: 0.5496 - val_loss: 1.7357 - val_accuracy: 0.4252\n",
            "Epoch 31/35\n",
            "704/704 [==============================] - 3s 4ms/step - loss: 1.2766 - accuracy: 0.5506 - val_loss: 1.9221 - val_accuracy: 0.4418\n",
            "Epoch 32/35\n",
            "704/704 [==============================] - 3s 4ms/step - loss: 1.2588 - accuracy: 0.5566 - val_loss: 2.0171 - val_accuracy: 0.4296\n",
            "Epoch 33/35\n",
            "704/704 [==============================] - 3s 4ms/step - loss: 1.2675 - accuracy: 0.5526 - val_loss: 1.9305 - val_accuracy: 0.4148\n",
            "Epoch 34/35\n",
            "704/704 [==============================] - 3s 4ms/step - loss: 1.2562 - accuracy: 0.5596 - val_loss: 1.9202 - val_accuracy: 0.4216\n",
            "Epoch 35/35\n",
            "704/704 [==============================] - 3s 4ms/step - loss: 1.2487 - accuracy: 0.5601 - val_loss: 1.9447 - val_accuracy: 0.4308\n",
            "Epoch 1/35\n",
            "704/704 [==============================] - 4s 4ms/step - loss: 1.8655 - accuracy: 0.3233 - val_loss: 1.9677 - val_accuracy: 0.3132\n",
            "Epoch 2/35\n",
            "704/704 [==============================] - 3s 4ms/step - loss: 1.6803 - accuracy: 0.3957 - val_loss: 1.6535 - val_accuracy: 0.4054\n",
            "Epoch 3/35\n",
            "704/704 [==============================] - 3s 4ms/step - loss: 1.6009 - accuracy: 0.4243 - val_loss: 1.7022 - val_accuracy: 0.3920\n",
            "Epoch 4/35\n",
            "704/704 [==============================] - 3s 5ms/step - loss: 1.5477 - accuracy: 0.4442 - val_loss: 1.5875 - val_accuracy: 0.4284\n",
            "Epoch 5/35\n",
            "704/704 [==============================] - 3s 4ms/step - loss: 1.4992 - accuracy: 0.4631 - val_loss: 1.6083 - val_accuracy: 0.4370\n",
            "Epoch 6/35\n",
            "704/704 [==============================] - 3s 4ms/step - loss: 1.4614 - accuracy: 0.4756 - val_loss: 1.5200 - val_accuracy: 0.4538\n",
            "Epoch 7/35\n",
            "704/704 [==============================] - 3s 4ms/step - loss: 1.4244 - accuracy: 0.4910 - val_loss: 1.4756 - val_accuracy: 0.4776\n",
            "Epoch 8/35\n",
            "704/704 [==============================] - 3s 5ms/step - loss: 1.3936 - accuracy: 0.5003 - val_loss: 1.4944 - val_accuracy: 0.4704\n",
            "Epoch 9/35\n",
            "704/704 [==============================] - 3s 4ms/step - loss: 1.3706 - accuracy: 0.5120 - val_loss: 1.4592 - val_accuracy: 0.4770\n",
            "Epoch 10/35\n",
            "704/704 [==============================] - 3s 4ms/step - loss: 1.3391 - accuracy: 0.5208 - val_loss: 1.4461 - val_accuracy: 0.4826\n",
            "Epoch 11/35\n",
            "704/704 [==============================] - 3s 4ms/step - loss: 1.3141 - accuracy: 0.5293 - val_loss: 1.4425 - val_accuracy: 0.4896\n",
            "Epoch 12/35\n",
            "704/704 [==============================] - 3s 4ms/step - loss: 1.2881 - accuracy: 0.5377 - val_loss: 1.4350 - val_accuracy: 0.4828\n",
            "Epoch 13/35\n",
            "704/704 [==============================] - 3s 4ms/step - loss: 1.2623 - accuracy: 0.5494 - val_loss: 1.3911 - val_accuracy: 0.5104\n",
            "Epoch 14/35\n",
            "704/704 [==============================] - 3s 4ms/step - loss: 1.2326 - accuracy: 0.5589 - val_loss: 1.3916 - val_accuracy: 0.5114\n",
            "Epoch 15/35\n",
            "704/704 [==============================] - 3s 4ms/step - loss: 1.2194 - accuracy: 0.5612 - val_loss: 1.4140 - val_accuracy: 0.4974\n",
            "Epoch 16/35\n",
            "704/704 [==============================] - 3s 4ms/step - loss: 1.1941 - accuracy: 0.5764 - val_loss: 1.3633 - val_accuracy: 0.5204\n",
            "Epoch 17/35\n",
            "704/704 [==============================] - 3s 5ms/step - loss: 1.1727 - accuracy: 0.5760 - val_loss: 1.3963 - val_accuracy: 0.5116\n",
            "Epoch 18/35\n",
            "704/704 [==============================] - 3s 4ms/step - loss: 1.1528 - accuracy: 0.5868 - val_loss: 1.4773 - val_accuracy: 0.4990\n",
            "Epoch 19/35\n",
            "704/704 [==============================] - 3s 4ms/step - loss: 1.1388 - accuracy: 0.5926 - val_loss: 1.4839 - val_accuracy: 0.4930\n",
            "Epoch 20/35\n",
            "704/704 [==============================] - 3s 4ms/step - loss: 1.1149 - accuracy: 0.6010 - val_loss: 1.4069 - val_accuracy: 0.5160\n",
            "Epoch 21/35\n",
            "704/704 [==============================] - 3s 5ms/step - loss: 1.0951 - accuracy: 0.6082 - val_loss: 1.3233 - val_accuracy: 0.5472\n",
            "Epoch 22/35\n",
            "704/704 [==============================] - 3s 4ms/step - loss: 1.0804 - accuracy: 0.6157 - val_loss: 1.3961 - val_accuracy: 0.5234\n",
            "Epoch 23/35\n",
            "704/704 [==============================] - 3s 4ms/step - loss: 1.0541 - accuracy: 0.6215 - val_loss: 1.4084 - val_accuracy: 0.5232\n",
            "Epoch 24/35\n",
            "704/704 [==============================] - 3s 4ms/step - loss: 1.0373 - accuracy: 0.6251 - val_loss: 1.4011 - val_accuracy: 0.5206\n",
            "Epoch 25/35\n",
            "704/704 [==============================] - 4s 5ms/step - loss: 1.0217 - accuracy: 0.6333 - val_loss: 1.4320 - val_accuracy: 0.5080\n",
            "Epoch 26/35\n",
            "704/704 [==============================] - 3s 4ms/step - loss: 0.9978 - accuracy: 0.6410 - val_loss: 1.4221 - val_accuracy: 0.5158\n",
            "Epoch 27/35\n",
            "704/704 [==============================] - 3s 4ms/step - loss: 0.9801 - accuracy: 0.6502 - val_loss: 1.4161 - val_accuracy: 0.5256\n",
            "Epoch 28/35\n",
            "704/704 [==============================] - 3s 4ms/step - loss: 0.9590 - accuracy: 0.6553 - val_loss: 1.4399 - val_accuracy: 0.5198\n",
            "Epoch 29/35\n",
            "704/704 [==============================] - 4s 5ms/step - loss: 0.9458 - accuracy: 0.6601 - val_loss: 1.4942 - val_accuracy: 0.5092\n",
            "Epoch 30/35\n",
            "704/704 [==============================] - 3s 4ms/step - loss: 0.9283 - accuracy: 0.6654 - val_loss: 1.4886 - val_accuracy: 0.5136\n",
            "Epoch 31/35\n",
            "704/704 [==============================] - 3s 4ms/step - loss: 0.9103 - accuracy: 0.6728 - val_loss: 1.4999 - val_accuracy: 0.5094\n",
            "Epoch 32/35\n",
            "704/704 [==============================] - 3s 4ms/step - loss: 0.8920 - accuracy: 0.6803 - val_loss: 1.4529 - val_accuracy: 0.5236\n",
            "Epoch 33/35\n",
            "704/704 [==============================] - 3s 5ms/step - loss: 0.8737 - accuracy: 0.6864 - val_loss: 1.4670 - val_accuracy: 0.5276\n",
            "Epoch 34/35\n",
            "704/704 [==============================] - 3s 4ms/step - loss: 0.8580 - accuracy: 0.6898 - val_loss: 1.4931 - val_accuracy: 0.5282\n",
            "Epoch 35/35\n",
            "704/704 [==============================] - 3s 4ms/step - loss: 0.8417 - accuracy: 0.6979 - val_loss: 1.6189 - val_accuracy: 0.4942\n"
          ]
        }
      ],
      "source": [
        "# train the model\n",
        "\n",
        "h_sgd  = dnnModel.fit( Xtrain, Ytrain, epochs=35, batch_size=64, validation_split=0.1)\n",
        "h_adam  = dnnModel_adam.fit( Xtrain, Ytrain, epochs=35, batch_size=64, validation_split=0.1)\n",
        "h_rms  = dnnModel_rmsprop.fit( Xtrain, Ytrain, epochs=35, batch_size=64, validation_split=0.1)\n",
        "h_momentum  = dnnModel_momentum.fit( Xtrain, Ytrain, epochs=35, batch_size=64, validation_split=0.1)\n"
      ]
    },
    {
      "cell_type": "code",
      "execution_count": null,
      "metadata": {
        "colab": {
          "base_uri": "https://localhost:8080/"
        },
        "id": "k9MIN2GJr37u",
        "outputId": "b479749e-fd71-44b4-b8a3-86c9e9ac8071"
      },
      "outputs": [
        {
          "output_type": "stream",
          "name": "stdout",
          "text": [
            "SGD Final training accuracy  0.6235111355781555\n",
            "Adam Final training accuracy  0.6556888818740845\n",
            "RMSProp Final training accuracy  0.5600666403770447\n",
            "SGD_momentum Final training accuracy  0.697866678237915\n"
          ]
        }
      ],
      "source": [
        "#print('Final training loss \\t', h.history['loss'][-1])\n",
        "print('SGD Final training accuracy ', h_sgd.history['accuracy'][-1])\n",
        "print('Adam Final training accuracy ', h_adam.history['accuracy'][-1])\n",
        "print('RMSProp Final training accuracy ', h_rms.history['accuracy'][-1])\n",
        "print('SGD_momentum Final training accuracy ', h_momentum.history['accuracy'][-1])"
      ]
    },
    {
      "cell_type": "markdown",
      "metadata": {
        "id": "Bvx0GdDVr37u"
      },
      "source": [
        "## Testing the Model"
      ]
    },
    {
      "cell_type": "code",
      "execution_count": null,
      "metadata": {
        "colab": {
          "base_uri": "https://localhost:8080/"
        },
        "id": "ZX6U8RbFr37v",
        "outputId": "da180608-0067-4da6-e075-7c1cf24fe3bd"
      },
      "outputs": [
        {
          "output_type": "stream",
          "name": "stdout",
          "text": [
            "313/313 [==============================] - 1s 4ms/step - loss: 1.8333 - accuracy: 0.3868\n",
            "313/313 [==============================] - 1s 2ms/step - loss: 1.6365 - accuracy: 0.4983\n",
            "313/313 [==============================] - 1s 2ms/step - loss: 1.9446 - accuracy: 0.4364\n",
            "313/313 [==============================] - 1s 3ms/step - loss: 1.6274 - accuracy: 0.4969\n"
          ]
        }
      ],
      "source": [
        "# testing the model\n",
        "\n",
        "testLoss_sgd, testAccuracy_sgd = dnnModel.evaluate( Xtest, Ytest)\n",
        "testLoss_adam, testAccuracy_adam = dnnModel_adam.evaluate( Xtest, Ytest)\n",
        "testLoss_rms, testAccuracy_rms = dnnModel_rmsprop.evaluate( Xtest, Ytest)\n",
        "testLoss_momentum, testAccuracy_momentum = dnnModel_momentum.evaluate( Xtest, Ytest)"
      ]
    },
    {
      "cell_type": "code",
      "execution_count": null,
      "metadata": {
        "colab": {
          "base_uri": "https://localhost:8080/"
        },
        "id": "xI8u1Dcyr37v",
        "outputId": "e621e64c-f30c-44ab-a1db-16958319108e"
      },
      "outputs": [
        {
          "output_type": "stream",
          "name": "stdout",
          "text": [
            "Testing loss \t 1.8333027362823486\n",
            "Testing accuracy  0.38679999113082886\n"
          ]
        }
      ],
      "source": [
        "print('Testing loss \\t', testLoss_sgd)\n",
        "print('Testing accuracy ', testAccuracy_sgd)"
      ]
    },
    {
      "cell_type": "code",
      "execution_count": null,
      "metadata": {
        "colab": {
          "base_uri": "https://localhost:8080/",
          "height": 472
        },
        "id": "7a5NFhYUr37v",
        "outputId": "f6a29f85-a277-41c9-ec60-4ba0a34e8c1b"
      },
      "outputs": [
        {
          "output_type": "display_data",
          "data": {
            "text/plain": [
              "<Figure size 640x480 with 1 Axes>"
            ],
            "image/png": "[encoded data removed]"
          },
          "metadata": {}
        }
      ],
      "source": [
        "# plot the training accuracy\n",
        "\n",
        "plt.plot(h_sgd.history['accuracy'], label='SGD')\n",
        "plt.plot(h_adam.history['accuracy'], label='Adam')\n",
        "plt.plot(h_rms.history['accuracy'], label='RmsProp')\n",
        "plt.plot(h_momentum.history['accuracy'], label='SGD_Momemtum')\n",
        "#plt.plot(h.history['val_acc'], label='Val Acc')\n",
        "plt.xlabel('Epochs')\n",
        "plt.ylabel('Loss')\n",
        "plt.title('Plot of Training Accuracy')\n",
        "plt.legend()\n",
        "plt.show()"
      ]
    },
    {
      "cell_type": "code",
      "execution_count": null,
      "metadata": {
        "colab": {
          "base_uri": "https://localhost:8080/",
          "height": 472
        },
        "id": "KAOmcsNSr37w",
        "outputId": "99757f88-14eb-435e-cd4c-2e8703dbec4c"
      },
      "outputs": [
        {
          "output_type": "display_data",
          "data": {
            "text/plain": [
              "<Figure size 640x480 with 1 Axes>"
            ],
            "image/png": "[encoded data removed]"
          },
          "metadata": {}
        }
      ],
      "source": [
        "# plot the training loss\n",
        "\n",
        "plt.plot(h_sgd.history['loss'], label='SGD')\n",
        "plt.plot(h_adam.history['loss'], label='Adam')\n",
        "plt.plot(h_rms.history['loss'], label='RmsProp')\n",
        "plt.plot(h_momentum.history['loss'], label='SGD_Momentum')\n",
        "#plt.plot(hes.history['val_loss'], label='Val loss')\n",
        "plt.xlabel('Epochs')\n",
        "plt.ylabel('Loss')\n",
        "plt.title('Plot of Training Loss')\n",
        "plt.legend()\n",
        "plt.show()"
      ]
    },
    {
      "cell_type": "markdown",
      "metadata": {
        "id": "sSouOQtir37w"
      },
      "source": [
        "# Exercise\n",
        "\n",
        "Modify the code as per the below instructions\n",
        "- Use a different dataset. --> **used CIFAR10 small images classification dataset**  \n",
        "- Increase the number of hidden layers. --> **increased onemore hidden layer**\n",
        "- Increase the number of neurons in each hidden layers. --> **increased number of nurons in each layer**\n",
        "- Compare the results of the following optimizers - SGD, Momentum, RMSProp, Adam and plot the results. --> **included sgd momentum optimizer and acheived higher efficieny and lower loss than other optimizers.**\n"
      ]
    },
    {
      "cell_type": "code",
      "source": [],
      "metadata": {
        "id": "THZfZ-2faKa1"
      },
      "execution_count": null,
      "outputs": []
    }
  ],
  "metadata": {
    "kernelspec": {
      "display_name": "Python 3",
      "name": "python3"
    },
    "language_info": {
      "codemirror_mode": {
        "name": "ipython",
        "version": 3
      },
      "file_extension": ".py",
      "mimetype": "text/x-python",
      "name": "python",
      "nbconvert_exporter": "python",
      "pygments_lexer": "ipython3",
      "version": "3.8.10"
    },
    "colab": {
      "provenance": [],
      "gpuType": "T4",
      "include_colab_link": true
    },
    "accelerator": "GPU"
  },
  "nbformat": 4,
  "nbformat_minor": 0
}